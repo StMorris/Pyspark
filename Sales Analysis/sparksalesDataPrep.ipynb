{
 "cells": [
  {
   "cell_type": "markdown",
   "id": "88f0688d",
   "metadata": {},
   "source": [
    "## Data preparation\n",
    "\n",
    "Preparation of the raw sales data for smooth analysis.\n",
    "\n",
    "- import the csv data\n",
    "- clean the data\n",
    "- export the prepared data in a Parquet format"
   ]
  },
  {
   "cell_type": "markdown",
   "id": "ad3cd5d1-9739-4a62-aded-c882dfe731f0",
   "metadata": {
    "jp-MarkdownHeadingCollapsed": true,
    "tags": []
   },
   "source": [
    "#### **Import relevant Libraries**"
   ]
  },
  {
   "cell_type": "code",
   "execution_count": 1,
   "id": "2ae8f012-a201-4698-8766-ff00d1d5327d",
   "metadata": {},
   "outputs": [],
   "source": [
    "from pyspark.sql import SparkSession\n",
    "from pyspark.sql.types import StructType, StructField, StringType, IntegerType"
   ]
  },
  {
   "cell_type": "code",
   "execution_count": 2,
   "id": "3df30336-25cb-4410-aec4-a691b7cb5960",
   "metadata": {},
   "outputs": [],
   "source": [
    "import warnings\n",
    "\n",
    "warnings.filterwarnings('ignore')"
   ]
  },
  {
   "cell_type": "markdown",
   "id": "46b44c79-59e7-48f5-9eca-fe56b9ec18ca",
   "metadata": {
    "jp-MarkdownHeadingCollapsed": true,
    "tags": []
   },
   "source": [
    "#### **Create Session**"
   ]
  },
  {
   "cell_type": "code",
   "execution_count": 3,
   "id": "a2df69c7-396e-44cf-853f-746a78c32d55",
   "metadata": {
    "scrolled": true
   },
   "outputs": [
    {
     "name": "stderr",
     "output_type": "stream",
     "text": [
      "WARNING: An illegal reflective access operation has occurred\n",
      "WARNING: Illegal reflective access by org.apache.spark.unsafe.Platform (file:/Users/st__morris/opt/anaconda3/lib/python3.9/site-packages/pyspark/jars/spark-unsafe_2.12-3.2.1.jar) to constructor java.nio.DirectByteBuffer(long,int)\n",
      "WARNING: Please consider reporting this to the maintainers of org.apache.spark.unsafe.Platform\n",
      "WARNING: Use --illegal-access=warn to enable warnings of further illegal reflective access operations\n",
      "WARNING: All illegal access operations will be denied in a future release\n",
      "Using Spark's default log4j profile: org/apache/spark/log4j-defaults.properties\n",
      "Setting default log level to \"WARN\".\n",
      "To adjust logging level use sc.setLogLevel(newLevel). For SparkR, use setLogLevel(newLevel).\n",
      "22/06/05 01:37:53 WARN NativeCodeLoader: Unable to load native-hadoop library for your platform... using builtin-java classes where applicable\n",
      "22/06/05 01:37:53 WARN Utils: Service 'SparkUI' could not bind on port 4040. Attempting port 4041.\n",
      "22/06/05 01:37:53 WARN Utils: Service 'SparkUI' could not bind on port 4041. Attempting port 4042.\n"
     ]
    }
   ],
   "source": [
    "#create spark session\n",
    "spark = (SparkSession.builder.appName('SalesAnalytics').getOrCreate())"
   ]
  },
  {
   "cell_type": "markdown",
   "id": "54fbdf09",
   "metadata": {},
   "source": [
    "Java11 and Spark 3.2 when used together produce these errors. \n",
    "The first step is to switch to Java8 until this issue gets resolved, although spark session is still created and runs successfully"
   ]
  },
  {
   "cell_type": "markdown",
   "id": "d0ee68c4-00b1-497d-82a1-ce9a9f24d9c1",
   "metadata": {
    "tags": []
   },
   "source": [
    "### Data Preparation and Cleansing"
   ]
  },
  {
   "cell_type": "markdown",
   "id": "112742b6-48c6-45f8-8022-1ca5d271c8c2",
   "metadata": {
    "jp-MarkdownHeadingCollapsed": true,
    "tags": []
   },
   "source": [
    "#### **Data Preparation**"
   ]
  },
  {
   "cell_type": "code",
   "execution_count": 4,
   "id": "e0e0610e-e97d-430d-bd83-b009220b50a0",
   "metadata": {},
   "outputs": [],
   "source": [
    "#create schema\n",
    "schema = StructType([\n",
    "    StructField('Order ID', StringType(), True),\n",
    "    StructField('Product', StringType(), True),\n",
    "    StructField('Quantity Ordered', StringType(), True),\n",
    "    StructField('Price Each', StringType(), True),\n",
    "    StructField('Order Date', StringType(), True),\n",
    "    StructField('Purchase Address', StringType(), True)\n",
    "])"
   ]
  },
  {
   "cell_type": "code",
   "execution_count": 5,
   "id": "d95e4c37-3c9c-4838-8a91-67baf76c181b",
   "metadata": {},
   "outputs": [],
   "source": [
    "#read file from file path\n",
    "sales_data_path = 'data/salesdata'\n",
    "\n",
    "\n",
    "#create spark dataframe\n",
    "sales_raw_df = (spark.read.format('csv')\n",
    "                .option('header', True)\n",
    "                .schema(schema)\n",
    "                .load(sales_data_path))"
   ]
  },
  {
   "cell_type": "code",
   "execution_count": 6,
   "id": "eb457c4e-d563-4b5b-ad1f-451a34f62e5b",
   "metadata": {},
   "outputs": [
    {
     "name": "stdout",
     "output_type": "stream",
     "text": [
      "+--------+--------------------+----------------+----------+--------------+--------------------+\n",
      "|Order ID|             Product|Quantity Ordered|Price Each|    Order Date|    Purchase Address|\n",
      "+--------+--------------------+----------------+----------+--------------+--------------------+\n",
      "|  295665|  Macbook Pro Laptop|               1|      1700|12/30/19 00:01|136 Church St, Ne...|\n",
      "|  295666|  LG Washing Machine|               1|     600.0|12/29/19 07:03|562 2nd St, New Y...|\n",
      "|  295667|USB-C Charging Cable|               1|     11.95|12/12/19 18:21|277 Main St, New ...|\n",
      "|  295668|    27in FHD Monitor|               1|    149.99|12/22/19 15:13|410 6th St, San F...|\n",
      "|  295669|USB-C Charging Cable|               1|     11.95|12/18/19 12:38|43 Hill St, Atlan...|\n",
      "|  295670|AA Batteries (4-p...|               1|      3.84|12/31/19 22:58|200 Jefferson St,...|\n",
      "|  295671|USB-C Charging Cable|               1|     11.95|12/16/19 15:10|928 12th St, Port...|\n",
      "|  295672|USB-C Charging Cable|               2|     11.95|12/13/19 09:29|813 Hickory St, D...|\n",
      "|  295673|Bose SoundSport H...|               1|     99.99|12/15/19 23:26|718 Wilson St, Da...|\n",
      "|  295674|AAA Batteries (4-...|               4|      2.99|12/28/19 11:51|77 7th St, Dallas...|\n",
      "+--------+--------------------+----------------+----------+--------------+--------------------+\n",
      "only showing top 10 rows\n",
      "\n"
     ]
    }
   ],
   "source": [
    "sales_raw_df.show(10)"
   ]
  },
  {
   "cell_type": "code",
   "execution_count": 7,
   "id": "ffdf6186-0f03-4f91-b707-f917a8a06024",
   "metadata": {},
   "outputs": [
    {
     "name": "stdout",
     "output_type": "stream",
     "text": [
      "root\n",
      " |-- Order ID: string (nullable = true)\n",
      " |-- Product: string (nullable = true)\n",
      " |-- Quantity Ordered: string (nullable = true)\n",
      " |-- Price Each: string (nullable = true)\n",
      " |-- Order Date: string (nullable = true)\n",
      " |-- Purchase Address: string (nullable = true)\n",
      "\n"
     ]
    }
   ],
   "source": [
    "sales_raw_df.printSchema()"
   ]
  },
  {
   "cell_type": "markdown",
   "id": "4067916e-dcef-4442-bdc6-39d37a51e0db",
   "metadata": {
    "tags": []
   },
   "source": []
  },
  {
   "cell_type": "markdown",
   "id": "6bb0e574-0385-4497-b460-54a6b0139bbb",
   "metadata": {
    "jp-MarkdownHeadingCollapsed": true,
    "tags": []
   },
   "source": [
    "#### **Remove Null Row and Bad Records**"
   ]
  },
  {
   "cell_type": "code",
   "execution_count": 8,
   "id": "4b14302e-4d15-4100-acb0-f158864c3042",
   "metadata": {},
   "outputs": [],
   "source": [
    "from pyspark.sql.functions import col"
   ]
  },
  {
   "cell_type": "code",
   "execution_count": 9,
   "id": "f34c9427-8657-4336-a717-0ccb9f2ae69f",
   "metadata": {},
   "outputs": [
    {
     "name": "stdout",
     "output_type": "stream",
     "text": [
      "+--------+-------+----------------+----------+----------+----------------+\n",
      "|Order ID|Product|Quantity Ordered|Price Each|Order Date|Purchase Address|\n",
      "+--------+-------+----------------+----------+----------+----------------+\n",
      "|    null|   null|            null|      null|      null|            null|\n",
      "|    null|   null|            null|      null|      null|            null|\n",
      "|    null|   null|            null|      null|      null|            null|\n",
      "|    null|   null|            null|      null|      null|            null|\n",
      "|    null|   null|            null|      null|      null|            null|\n",
      "|    null|   null|            null|      null|      null|            null|\n",
      "|    null|   null|            null|      null|      null|            null|\n",
      "|    null|   null|            null|      null|      null|            null|\n",
      "|    null|   null|            null|      null|      null|            null|\n",
      "|    null|   null|            null|      null|      null|            null|\n",
      "+--------+-------+----------------+----------+----------+----------------+\n",
      "only showing top 10 rows\n",
      "\n"
     ]
    }
   ],
   "source": [
    "#check for null values\n",
    "sales_raw_df.filter(col('Order ID').isNull() == True).show(10)"
   ]
  },
  {
   "cell_type": "code",
   "execution_count": 10,
   "id": "4325489b-728c-4f5b-b1c4-fa90665869f2",
   "metadata": {},
   "outputs": [],
   "source": [
    "#drop rows with null values\n",
    "sales_raw_df = sales_raw_df.na.drop('any')"
   ]
  },
  {
   "cell_type": "code",
   "execution_count": 11,
   "id": "4819c27c-8141-44b8-90ce-408c77e9e7cb",
   "metadata": {},
   "outputs": [
    {
     "name": "stdout",
     "output_type": "stream",
     "text": [
      "+--------+-------+----------------+----------+----------+----------------+\n",
      "|Order ID|Product|Quantity Ordered|Price Each|Order Date|Purchase Address|\n",
      "+--------+-------+----------------+----------+----------+----------------+\n",
      "+--------+-------+----------------+----------+----------+----------------+\n",
      "\n"
     ]
    }
   ],
   "source": [
    "#check for null values\n",
    "sales_raw_df.filter(col('Order ID').isNull() == True).show(10)"
   ]
  },
  {
   "cell_type": "code",
   "execution_count": 12,
   "id": "fce757dd-496d-45a5-874a-48383f2dbc95",
   "metadata": {},
   "outputs": [
    {
     "name": "stderr",
     "output_type": "stream",
     "text": [
      "[Stage 5:=========>                                                 (1 + 5) / 6]\r"
     ]
    },
    {
     "name": "stdout",
     "output_type": "stream",
     "text": [
      "+-------+-----------------+------------+------------------+-----------------+--------------+--------------------+\n",
      "|summary|         Order ID|     Product|  Quantity Ordered|       Price Each|    Order Date|    Purchase Address|\n",
      "+-------+-----------------+------------+------------------+-----------------+--------------+--------------------+\n",
      "|  count|           186305|      186305|            186305|           186305|        186305|              186305|\n",
      "|   mean|230417.5693788653|        null|1.1243828986286637|184.3997347674861|          null|                null|\n",
      "| stddev| 51512.7371099961|        null|0.4427926240286694|332.7313298843445|          null|                null|\n",
      "|    min|           141234|20in Monitor|                 1|           109.99|01/01/19 03:07|1 11th St, Atlant...|\n",
      "|    max|         Order ID|      iPhone|  Quantity Ordered|       Price Each|    Order Date|    Purchase Address|\n",
      "+-------+-----------------+------------+------------------+-----------------+--------------+--------------------+\n",
      "\n"
     ]
    },
    {
     "name": "stderr",
     "output_type": "stream",
     "text": [
      "                                                                                \r"
     ]
    }
   ],
   "source": [
    "#check description\n",
    "sales_raw_df.describe().show()"
   ]
  },
  {
   "cell_type": "code",
   "execution_count": 13,
   "id": "d4414b79-c549-4a63-bf5c-4dad1ce8b8be",
   "metadata": {},
   "outputs": [
    {
     "name": "stdout",
     "output_type": "stream",
     "text": [
      "+--------+-------+----------------+----------+----------+----------------+\n",
      "|Order ID|Product|Quantity Ordered|Price Each|Order Date|Purchase Address|\n",
      "+--------+-------+----------------+----------+----------+----------------+\n",
      "|Order ID|Product|Quantity Ordered|Price Each|Order Date|Purchase Address|\n",
      "|Order ID|Product|Quantity Ordered|Price Each|Order Date|Purchase Address|\n",
      "|Order ID|Product|Quantity Ordered|Price Each|Order Date|Purchase Address|\n",
      "|Order ID|Product|Quantity Ordered|Price Each|Order Date|Purchase Address|\n",
      "|Order ID|Product|Quantity Ordered|Price Each|Order Date|Purchase Address|\n",
      "|Order ID|Product|Quantity Ordered|Price Each|Order Date|Purchase Address|\n",
      "|Order ID|Product|Quantity Ordered|Price Each|Order Date|Purchase Address|\n",
      "|Order ID|Product|Quantity Ordered|Price Each|Order Date|Purchase Address|\n",
      "|Order ID|Product|Quantity Ordered|Price Each|Order Date|Purchase Address|\n",
      "|Order ID|Product|Quantity Ordered|Price Each|Order Date|Purchase Address|\n",
      "+--------+-------+----------------+----------+----------+----------------+\n",
      "only showing top 10 rows\n",
      "\n"
     ]
    }
   ],
   "source": [
    "#filter for anomally\n",
    "sales_raw_df.filter(col('Order ID') == 'Order ID').show(10)"
   ]
  },
  {
   "cell_type": "code",
   "execution_count": 14,
   "id": "46d37105-df2c-41fc-a1ad-daf66a55dc9d",
   "metadata": {},
   "outputs": [],
   "source": [
    "#select distinct records to reduce anomally\n",
    "sales_temp_df = sales_raw_df.distinct()"
   ]
  },
  {
   "cell_type": "code",
   "execution_count": 15,
   "id": "ab37a99c-4c4f-4680-add0-84151c2ffb1b",
   "metadata": {},
   "outputs": [
    {
     "name": "stdout",
     "output_type": "stream",
     "text": [
      "+--------+-------+----------------+----------+----------+----------------+\n",
      "|Order ID|Product|Quantity Ordered|Price Each|Order Date|Purchase Address|\n",
      "+--------+-------+----------------+----------+----------+----------------+\n",
      "|Order ID|Product|Quantity Ordered|Price Each|Order Date|Purchase Address|\n",
      "+--------+-------+----------------+----------+----------+----------------+\n",
      "\n"
     ]
    }
   ],
   "source": [
    "#filter for anomally\n",
    "sales_temp_df.filter(col('Order ID') == 'Order ID').show(10)"
   ]
  },
  {
   "cell_type": "code",
   "execution_count": 16,
   "id": "f85f498d-ea83-4d4a-b93a-aa24af9c252e",
   "metadata": {},
   "outputs": [],
   "source": [
    "#filter to exclude anomally from df\n",
    "sales_temp_df = sales_temp_df.filter(col('Order ID') != 'Order ID')"
   ]
  },
  {
   "cell_type": "code",
   "execution_count": 17,
   "id": "aead9332-3be0-4c6b-b017-224cc47f5085",
   "metadata": {},
   "outputs": [
    {
     "name": "stdout",
     "output_type": "stream",
     "text": [
      "+--------+-------+----------------+----------+----------+----------------+\n",
      "|Order ID|Product|Quantity Ordered|Price Each|Order Date|Purchase Address|\n",
      "+--------+-------+----------------+----------+----------+----------------+\n",
      "+--------+-------+----------------+----------+----------+----------------+\n",
      "\n"
     ]
    }
   ],
   "source": [
    "#filter for anomally if available\n",
    "sales_temp_df.filter(col('Order ID') == 'Order ID').show(10)"
   ]
  },
  {
   "cell_type": "code",
   "execution_count": 18,
   "id": "6bb72918-329f-4e2d-aff9-77d2df58f117",
   "metadata": {},
   "outputs": [
    {
     "name": "stdout",
     "output_type": "stream",
     "text": [
      "+--------+--------------------------+----------------+----------+--------------+----------------------------------------+\n",
      "|Order ID|Product                   |Quantity Ordered|Price Each|Order Date    |Purchase Address                        |\n",
      "+--------+--------------------------+----------------+----------+--------------+----------------------------------------+\n",
      "|295900  |AA Batteries (4-pack)     |1               |3.84      |12/27/19 18:56|283 Washington St, Boston, MA 02215     |\n",
      "|295923  |Lightning Charging Cable  |1               |14.95     |12/21/19 13:41|968 8th St, Austin, TX 73301            |\n",
      "|295991  |Lightning Charging Cable  |1               |14.95     |12/15/19 20:16|857 Center St, Boston, MA 02215         |\n",
      "|296076  |Macbook Pro Laptop        |1               |1700      |12/03/19 15:19|679 Chestnut St, San Francisco, CA 94016|\n",
      "|297015  |AAA Batteries (4-pack)    |3               |2.99      |12/13/19 08:43|58 Dogwood St, San Francisco, CA 94016  |\n",
      "|297237  |Bose SoundSport Headphones|1               |99.99     |12/16/19 10:28|355 Park St, Boston, MA 02215           |\n",
      "|297376  |27in FHD Monitor          |1               |149.99    |12/03/19 11:38|542 9th St, New York City, NY 10001     |\n",
      "|297438  |Lightning Charging Cable  |1               |14.95     |12/17/19 13:13|708 Walnut St, New York City, NY 10001  |\n",
      "|297541  |AAA Batteries (4-pack)    |1               |2.99      |12/20/19 10:24|538 Hickory St, San Francisco, CA 94016 |\n",
      "|297635  |Wired Headphones          |1               |11.99     |12/06/19 09:50|199 8th St, San Francisco, CA 94016     |\n",
      "+--------+--------------------------+----------------+----------+--------------+----------------------------------------+\n",
      "only showing top 10 rows\n",
      "\n"
     ]
    }
   ],
   "source": [
    "sales_temp_df.show(10, truncate = False)"
   ]
  },
  {
   "cell_type": "code",
   "execution_count": 19,
   "id": "166a8c7c-e60a-47bf-842e-5ed3c2492aa7",
   "metadata": {},
   "outputs": [
    {
     "name": "stdout",
     "output_type": "stream",
     "text": [
      "+-------+------------------+------------+-------------------+------------------+--------------+--------------------+\n",
      "|summary|          Order ID|     Product|   Quantity Ordered|        Price Each|    Order Date|    Purchase Address|\n",
      "+-------+------------------+------------+-------------------+------------------+--------------+--------------------+\n",
      "|  count|            185686|      185686|             185686|            185686|        185686|              185686|\n",
      "|   mean|230411.37622653297|        null| 1.1245435843305365|184.51925546358413|          null|                null|\n",
      "| stddev| 51511.71718332079|        null|0.44306873838328764| 332.8438383900525|          null|                null|\n",
      "|    min|            141234|20in Monitor|                  1|            109.99|01/01/19 03:07|1 11th St, Atlant...|\n",
      "|    max|            319670|      iPhone|                  9|            999.99|12/31/19 23:53|999 Wilson St, Sa...|\n",
      "+-------+------------------+------------+-------------------+------------------+--------------+--------------------+\n",
      "\n"
     ]
    }
   ],
   "source": [
    "#description of df\n",
    "sales_temp_df.describe().show()"
   ]
  },
  {
   "cell_type": "markdown",
   "id": "784fc557-abac-4323-86d7-e8eee93ea0bb",
   "metadata": {
    "jp-MarkdownHeadingCollapsed": true,
    "tags": []
   },
   "source": [
    "### **Extract city and State from Purchase Address**"
   ]
  },
  {
   "cell_type": "code",
   "execution_count": 20,
   "id": "603b503b-863c-45a5-9b8f-62174b6b3a78",
   "metadata": {},
   "outputs": [],
   "source": [
    "from pyspark.sql.functions import split"
   ]
  },
  {
   "cell_type": "code",
   "execution_count": 21,
   "id": "6027f0ed-e7ea-4622-8a50-a8b007f9fb59",
   "metadata": {
    "scrolled": true
   },
   "outputs": [
    {
     "name": "stdout",
     "output_type": "stream",
     "text": [
      "+----------------------------------------+\n",
      "|Purchase Address                        |\n",
      "+----------------------------------------+\n",
      "|283 Washington St, Boston, MA 02215     |\n",
      "|968 8th St, Austin, TX 73301            |\n",
      "|857 Center St, Boston, MA 02215         |\n",
      "|679 Chestnut St, San Francisco, CA 94016|\n",
      "|58 Dogwood St, San Francisco, CA 94016  |\n",
      "|355 Park St, Boston, MA 02215           |\n",
      "|542 9th St, New York City, NY 10001     |\n",
      "|708 Walnut St, New York City, NY 10001  |\n",
      "|538 Hickory St, San Francisco, CA 94016 |\n",
      "|199 8th St, San Francisco, CA 94016     |\n",
      "+----------------------------------------+\n",
      "only showing top 10 rows\n",
      "\n"
     ]
    }
   ],
   "source": [
    "sales_temp_df.select('Purchase Address').show(10, truncate = False)"
   ]
  },
  {
   "cell_type": "code",
   "execution_count": 22,
   "id": "774c37ad-12de-4cae-b114-53f1126cc396",
   "metadata": {},
   "outputs": [
    {
     "name": "stdout",
     "output_type": "stream",
     "text": [
      "+----------------------------------------+--------------------------------------------+\n",
      "|Purchase Address                        |split                                       |\n",
      "+----------------------------------------+--------------------------------------------+\n",
      "|283 Washington St, Boston, MA 02215     |[283 Washington St,  Boston,  MA 02215]     |\n",
      "|968 8th St, Austin, TX 73301            |[968 8th St,  Austin,  TX 73301]            |\n",
      "|857 Center St, Boston, MA 02215         |[857 Center St,  Boston,  MA 02215]         |\n",
      "|679 Chestnut St, San Francisco, CA 94016|[679 Chestnut St,  San Francisco,  CA 94016]|\n",
      "|58 Dogwood St, San Francisco, CA 94016  |[58 Dogwood St,  San Francisco,  CA 94016]  |\n",
      "|355 Park St, Boston, MA 02215           |[355 Park St,  Boston,  MA 02215]           |\n",
      "|542 9th St, New York City, NY 10001     |[542 9th St,  New York City,  NY 10001]     |\n",
      "|708 Walnut St, New York City, NY 10001  |[708 Walnut St,  New York City,  NY 10001]  |\n",
      "|538 Hickory St, San Francisco, CA 94016 |[538 Hickory St,  San Francisco,  CA 94016] |\n",
      "|199 8th St, San Francisco, CA 94016     |[199 8th St,  San Francisco,  CA 94016]     |\n",
      "+----------------------------------------+--------------------------------------------+\n",
      "only showing top 10 rows\n",
      "\n"
     ]
    }
   ],
   "source": [
    "#split convert purchase address into a list for each row\n",
    "sales_temp_df.select('Purchase Address', split(col('Purchase Address'), ',').alias('split')).show(10, False)"
   ]
  },
  {
   "cell_type": "code",
   "execution_count": 23,
   "id": "5a4d41bc-1c72-4464-865a-4f11ffdb65c4",
   "metadata": {},
   "outputs": [
    {
     "name": "stdout",
     "output_type": "stream",
     "text": [
      "+----------------------------------------+---------------------------------+\n",
      "|Purchase Address                        |split(Purchase Address, ,, -1)[1]|\n",
      "+----------------------------------------+---------------------------------+\n",
      "|283 Washington St, Boston, MA 02215     | Boston                          |\n",
      "|968 8th St, Austin, TX 73301            | Austin                          |\n",
      "|857 Center St, Boston, MA 02215         | Boston                          |\n",
      "|679 Chestnut St, San Francisco, CA 94016| San Francisco                   |\n",
      "|58 Dogwood St, San Francisco, CA 94016  | San Francisco                   |\n",
      "|355 Park St, Boston, MA 02215           | Boston                          |\n",
      "|542 9th St, New York City, NY 10001     | New York City                   |\n",
      "|708 Walnut St, New York City, NY 10001  | New York City                   |\n",
      "|538 Hickory St, San Francisco, CA 94016 | San Francisco                   |\n",
      "|199 8th St, San Francisco, CA 94016     | San Francisco                   |\n",
      "+----------------------------------------+---------------------------------+\n",
      "only showing top 10 rows\n",
      "\n"
     ]
    }
   ],
   "source": [
    "#use getItem to index the list\n",
    "sales_temp_df.select('Purchase Address', split(col('Purchase Address'), ',').getItem(1)).show(10, False)"
   ]
  },
  {
   "cell_type": "code",
   "execution_count": 24,
   "id": "4b750082-f7da-4c75-98ab-69802a72f2ac",
   "metadata": {},
   "outputs": [
    {
     "name": "stdout",
     "output_type": "stream",
     "text": [
      "+----------------------------------------+---------------------------------+\n",
      "|Purchase Address                        |split(Purchase Address, ,, -1)[2]|\n",
      "+----------------------------------------+---------------------------------+\n",
      "|283 Washington St, Boston, MA 02215     | MA 02215                        |\n",
      "|968 8th St, Austin, TX 73301            | TX 73301                        |\n",
      "|857 Center St, Boston, MA 02215         | MA 02215                        |\n",
      "|679 Chestnut St, San Francisco, CA 94016| CA 94016                        |\n",
      "|58 Dogwood St, San Francisco, CA 94016  | CA 94016                        |\n",
      "|355 Park St, Boston, MA 02215           | MA 02215                        |\n",
      "|542 9th St, New York City, NY 10001     | NY 10001                        |\n",
      "|708 Walnut St, New York City, NY 10001  | NY 10001                        |\n",
      "|538 Hickory St, San Francisco, CA 94016 | CA 94016                        |\n",
      "|199 8th St, San Francisco, CA 94016     | CA 94016                        |\n",
      "+----------------------------------------+---------------------------------+\n",
      "only showing top 10 rows\n",
      "\n"
     ]
    }
   ],
   "source": [
    "sales_temp_df.select('Purchase Address', split(col('Purchase Address'), ',').getItem(2)).show(10, False)"
   ]
  },
  {
   "cell_type": "code",
   "execution_count": 25,
   "id": "2f0b9f5a-9685-4aa2-a952-6120a4a99b20",
   "metadata": {},
   "outputs": [
    {
     "name": "stdout",
     "output_type": "stream",
     "text": [
      "+----------------------------------------+-----------------------------------------------+\n",
      "|Purchase Address                        |split(split(Purchase Address, ,, -1)[2],  , -1)|\n",
      "+----------------------------------------+-----------------------------------------------+\n",
      "|283 Washington St, Boston, MA 02215     |[, MA, 02215]                                  |\n",
      "|968 8th St, Austin, TX 73301            |[, TX, 73301]                                  |\n",
      "|857 Center St, Boston, MA 02215         |[, MA, 02215]                                  |\n",
      "|679 Chestnut St, San Francisco, CA 94016|[, CA, 94016]                                  |\n",
      "|58 Dogwood St, San Francisco, CA 94016  |[, CA, 94016]                                  |\n",
      "|355 Park St, Boston, MA 02215           |[, MA, 02215]                                  |\n",
      "|542 9th St, New York City, NY 10001     |[, NY, 10001]                                  |\n",
      "|708 Walnut St, New York City, NY 10001  |[, NY, 10001]                                  |\n",
      "|538 Hickory St, San Francisco, CA 94016 |[, CA, 94016]                                  |\n",
      "|199 8th St, San Francisco, CA 94016     |[, CA, 94016]                                  |\n",
      "+----------------------------------------+-----------------------------------------------+\n",
      "only showing top 10 rows\n",
      "\n"
     ]
    }
   ],
   "source": [
    "sales_temp_df.select('Purchase Address', split(split(col('Purchase Address'), ',').getItem(2), ' ')).show(10, False)"
   ]
  },
  {
   "cell_type": "code",
   "execution_count": 26,
   "id": "210ab635-518e-45b5-ad4b-506ed2ca696c",
   "metadata": {},
   "outputs": [],
   "source": [
    "sales_temp_df = (sales_temp_df\n",
    "                 .withColumn('City', split(col('Purchase Address'), ',').getItem(1))\n",
    "                 .withColumn('State', split(split(col('Purchase Address'), ',').getItem(2), ' ').getItem(1)))"
   ]
  },
  {
   "cell_type": "code",
   "execution_count": 27,
   "id": "fa55746d-9ee5-44c2-866b-f96334d6033f",
   "metadata": {},
   "outputs": [
    {
     "name": "stdout",
     "output_type": "stream",
     "text": [
      "+--------+--------------------+----------------+----------+--------------+--------------------+--------------+-----+\n",
      "|Order ID|             Product|Quantity Ordered|Price Each|    Order Date|    Purchase Address|          City|State|\n",
      "+--------+--------------------+----------------+----------+--------------+--------------------+--------------+-----+\n",
      "|  295900|AA Batteries (4-p...|               1|      3.84|12/27/19 18:56|283 Washington St...|        Boston|   MA|\n",
      "|  295923|Lightning Chargin...|               1|     14.95|12/21/19 13:41|968 8th St, Austi...|        Austin|   TX|\n",
      "|  295991|Lightning Chargin...|               1|     14.95|12/15/19 20:16|857 Center St, Bo...|        Boston|   MA|\n",
      "|  296076|  Macbook Pro Laptop|               1|      1700|12/03/19 15:19|679 Chestnut St, ...| San Francisco|   CA|\n",
      "|  297015|AAA Batteries (4-...|               3|      2.99|12/13/19 08:43|58 Dogwood St, Sa...| San Francisco|   CA|\n",
      "|  297237|Bose SoundSport H...|               1|     99.99|12/16/19 10:28|355 Park St, Bost...|        Boston|   MA|\n",
      "|  297376|    27in FHD Monitor|               1|    149.99|12/03/19 11:38|542 9th St, New Y...| New York City|   NY|\n",
      "|  297438|Lightning Chargin...|               1|     14.95|12/17/19 13:13|708 Walnut St, Ne...| New York City|   NY|\n",
      "|  297541|AAA Batteries (4-...|               1|      2.99|12/20/19 10:24|538 Hickory St, S...| San Francisco|   CA|\n",
      "|  297635|    Wired Headphones|               1|     11.99|12/06/19 09:50|199 8th St, San F...| San Francisco|   CA|\n",
      "+--------+--------------------+----------------+----------+--------------+--------------------+--------------+-----+\n",
      "only showing top 10 rows\n",
      "\n"
     ]
    }
   ],
   "source": [
    "sales_temp_df.show(10)"
   ]
  },
  {
   "cell_type": "markdown",
   "id": "3a40a18b-fa09-4249-9fa3-dbc0c2cf87cc",
   "metadata": {
    "jp-MarkdownHeadingCollapsed": true,
    "tags": []
   },
   "source": [
    "### **Rename and Change Data Types**"
   ]
  },
  {
   "cell_type": "code",
   "execution_count": 28,
   "id": "4a41dd86-a7d7-447b-9210-b28b5f1fc579",
   "metadata": {},
   "outputs": [],
   "source": [
    "from pyspark.sql.functions import to_timestamp, year, month\n",
    "from pyspark.sql.types import IntegerType, FloatType"
   ]
  },
  {
   "cell_type": "code",
   "execution_count": 29,
   "id": "41cb15e4-e629-486c-b97e-ac09f799469b",
   "metadata": {},
   "outputs": [],
   "source": [
    "#create new columns and cast\n",
    "#cast function to change datatype\n",
    "#drop the old ones\n",
    "sales_temp_df = (sales_temp_df.withColumn('OrderID', col('Order ID').cast(IntegerType()))\n",
    "                 .withColumn('Quantity', col('Quantity Ordered').cast(IntegerType()))\n",
    "                 .withColumn('Price', col('Price Each').cast(FloatType()))\n",
    "                 .withColumn('OrderDate', to_timestamp(col('Order Date'),'MM/dd/yy HH:mm'))\n",
    "                 .withColumnRenamed('Purchase Address', 'StoreAddress')\n",
    "                 .drop('Order ID')\n",
    "                 .drop('Quantity Ordered')\n",
    "                 .drop('Price Each')\n",
    "                 .drop('Purchase Address')\n",
    "                )"
   ]
  },
  {
   "cell_type": "code",
   "execution_count": 30,
   "id": "611ca86a-9da3-4075-af49-0891f6b207f6",
   "metadata": {},
   "outputs": [
    {
     "name": "stdout",
     "output_type": "stream",
     "text": [
      "+--------------------+--------------+--------------------+--------------+-----+-------+--------+------+-------------------+\n",
      "|             Product|    Order Date|        StoreAddress|          City|State|OrderID|Quantity| Price|          OrderDate|\n",
      "+--------------------+--------------+--------------------+--------------+-----+-------+--------+------+-------------------+\n",
      "|AA Batteries (4-p...|12/27/19 18:56|283 Washington St...|        Boston|   MA| 295900|       1|  3.84|2019-12-27 18:56:00|\n",
      "|Lightning Chargin...|12/21/19 13:41|968 8th St, Austi...|        Austin|   TX| 295923|       1| 14.95|2019-12-21 13:41:00|\n",
      "|Lightning Chargin...|12/15/19 20:16|857 Center St, Bo...|        Boston|   MA| 295991|       1| 14.95|2019-12-15 20:16:00|\n",
      "|  Macbook Pro Laptop|12/03/19 15:19|679 Chestnut St, ...| San Francisco|   CA| 296076|       1|1700.0|2019-12-03 15:19:00|\n",
      "|AAA Batteries (4-...|12/13/19 08:43|58 Dogwood St, Sa...| San Francisco|   CA| 297015|       3|  2.99|2019-12-13 08:43:00|\n",
      "|Bose SoundSport H...|12/16/19 10:28|355 Park St, Bost...|        Boston|   MA| 297237|       1| 99.99|2019-12-16 10:28:00|\n",
      "|    27in FHD Monitor|12/03/19 11:38|542 9th St, New Y...| New York City|   NY| 297376|       1|149.99|2019-12-03 11:38:00|\n",
      "|Lightning Chargin...|12/17/19 13:13|708 Walnut St, Ne...| New York City|   NY| 297438|       1| 14.95|2019-12-17 13:13:00|\n",
      "|AAA Batteries (4-...|12/20/19 10:24|538 Hickory St, S...| San Francisco|   CA| 297541|       1|  2.99|2019-12-20 10:24:00|\n",
      "|    Wired Headphones|12/06/19 09:50|199 8th St, San F...| San Francisco|   CA| 297635|       1| 11.99|2019-12-06 09:50:00|\n",
      "+--------------------+--------------+--------------------+--------------+-----+-------+--------+------+-------------------+\n",
      "only showing top 10 rows\n",
      "\n"
     ]
    }
   ],
   "source": [
    "sales_temp_df.show(10)"
   ]
  },
  {
   "cell_type": "code",
   "execution_count": 31,
   "id": "d8f49656-1821-400f-a5dd-1fd66101f4fd",
   "metadata": {},
   "outputs": [
    {
     "name": "stdout",
     "output_type": "stream",
     "text": [
      "root\n",
      " |-- Product: string (nullable = true)\n",
      " |-- Order Date: string (nullable = true)\n",
      " |-- StoreAddress: string (nullable = true)\n",
      " |-- City: string (nullable = true)\n",
      " |-- State: string (nullable = true)\n",
      " |-- OrderID: integer (nullable = true)\n",
      " |-- Quantity: integer (nullable = true)\n",
      " |-- Price: float (nullable = true)\n",
      " |-- OrderDate: timestamp (nullable = true)\n",
      "\n"
     ]
    }
   ],
   "source": [
    "sales_temp_df.printSchema()"
   ]
  },
  {
   "cell_type": "markdown",
   "id": "da8b6b06-335c-4d73-a4e5-58846bf1de5f",
   "metadata": {
    "jp-MarkdownHeadingCollapsed": true,
    "tags": []
   },
   "source": [
    "#### **Add new columns, Month and Year**"
   ]
  },
  {
   "cell_type": "code",
   "execution_count": 32,
   "id": "75581645-6659-41c4-8b45-dd9498158cc9",
   "metadata": {},
   "outputs": [],
   "source": [
    "#create new column year and month\n",
    "sales_temp_df = (sales_temp_df.withColumn('ReportYear', year(col('OrderDate')))\n",
    "                 .withColumn('Month', month(col('OrderDate')))\n",
    "                )"
   ]
  },
  {
   "cell_type": "code",
   "execution_count": 33,
   "id": "e9be9531-bc2a-4be6-aaf8-8277581e48fb",
   "metadata": {},
   "outputs": [
    {
     "name": "stdout",
     "output_type": "stream",
     "text": [
      "+--------------------+--------------+--------------------+--------------+-----+-------+--------+------+-------------------+----------+-----+\n",
      "|             Product|    Order Date|        StoreAddress|          City|State|OrderID|Quantity| Price|          OrderDate|ReportYear|Month|\n",
      "+--------------------+--------------+--------------------+--------------+-----+-------+--------+------+-------------------+----------+-----+\n",
      "|AA Batteries (4-p...|12/27/19 18:56|283 Washington St...|        Boston|   MA| 295900|       1|  3.84|2019-12-27 18:56:00|      2019|   12|\n",
      "|Lightning Chargin...|12/21/19 13:41|968 8th St, Austi...|        Austin|   TX| 295923|       1| 14.95|2019-12-21 13:41:00|      2019|   12|\n",
      "|Lightning Chargin...|12/15/19 20:16|857 Center St, Bo...|        Boston|   MA| 295991|       1| 14.95|2019-12-15 20:16:00|      2019|   12|\n",
      "|  Macbook Pro Laptop|12/03/19 15:19|679 Chestnut St, ...| San Francisco|   CA| 296076|       1|1700.0|2019-12-03 15:19:00|      2019|   12|\n",
      "|AAA Batteries (4-...|12/13/19 08:43|58 Dogwood St, Sa...| San Francisco|   CA| 297015|       3|  2.99|2019-12-13 08:43:00|      2019|   12|\n",
      "+--------------------+--------------+--------------------+--------------+-----+-------+--------+------+-------------------+----------+-----+\n",
      "only showing top 5 rows\n",
      "\n"
     ]
    }
   ],
   "source": [
    "sales_temp_df.show(5)"
   ]
  },
  {
   "cell_type": "markdown",
   "id": "1c858b43-69c1-4473-b31b-38903ce1f7e5",
   "metadata": {
    "jp-MarkdownHeadingCollapsed": true,
    "tags": []
   },
   "source": [
    "### **Write df to Parquet**"
   ]
  },
  {
   "cell_type": "code",
   "execution_count": 34,
   "id": "9d048e86-b2c3-46c8-9e5e-c34f7adb5da9",
   "metadata": {},
   "outputs": [],
   "source": [
    "#rearrange the columns \n",
    "sales_final_df = sales_temp_df.select('OrderID', 'Product', 'Quantity', 'Price', 'OrderDate', 'StoreAddress', 'City', 'State', 'ReportYear', 'Month')"
   ]
  },
  {
   "cell_type": "code",
   "execution_count": 35,
   "id": "560c7dc1-6678-4ac0-96c5-da2edf5fd90e",
   "metadata": {},
   "outputs": [
    {
     "name": "stdout",
     "output_type": "stream",
     "text": [
      "+-------+--------------------+--------+------+-------------------+--------------------+--------------+-----+----------+-----+\n",
      "|OrderID|             Product|Quantity| Price|          OrderDate|        StoreAddress|          City|State|ReportYear|Month|\n",
      "+-------+--------------------+--------+------+-------------------+--------------------+--------------+-----+----------+-----+\n",
      "| 295900|AA Batteries (4-p...|       1|  3.84|2019-12-27 18:56:00|283 Washington St...|        Boston|   MA|      2019|   12|\n",
      "| 295923|Lightning Chargin...|       1| 14.95|2019-12-21 13:41:00|968 8th St, Austi...|        Austin|   TX|      2019|   12|\n",
      "| 295991|Lightning Chargin...|       1| 14.95|2019-12-15 20:16:00|857 Center St, Bo...|        Boston|   MA|      2019|   12|\n",
      "| 296076|  Macbook Pro Laptop|       1|1700.0|2019-12-03 15:19:00|679 Chestnut St, ...| San Francisco|   CA|      2019|   12|\n",
      "| 297015|AAA Batteries (4-...|       3|  2.99|2019-12-13 08:43:00|58 Dogwood St, Sa...| San Francisco|   CA|      2019|   12|\n",
      "+-------+--------------------+--------+------+-------------------+--------------------+--------------+-----+----------+-----+\n",
      "only showing top 5 rows\n",
      "\n"
     ]
    }
   ],
   "source": [
    "sales_final_df.show(5)"
   ]
  },
  {
   "cell_type": "code",
   "execution_count": 36,
   "id": "31f9a169-a764-4dbe-bea7-2b4f78b26e9b",
   "metadata": {},
   "outputs": [
    {
     "name": "stderr",
     "output_type": "stream",
     "text": [
      "22/06/05 01:38:04 WARN MemoryManager: Total allocation exceeds 95.00% (1,020,054,720 bytes) of heap memory\n",
      "Scaling row group sizes to 95.00% for 8 writers\n",
      "22/06/05 03:39:53 WARN HeartbeatReceiver: Removing executor driver with no recent heartbeats: 231269 ms exceeds timeout 120000 ms\n",
      "22/06/05 03:39:53 WARN SparkContext: Killing executors is not supported by current scheduler.\n"
     ]
    }
   ],
   "source": [
    "#write dataframe to parquet and partition by year and month\n",
    "output_path = 'data/output/sales'\n",
    "sales_final_df.write.mode('overwrite').partitionBy('ReportYear', 'Month').parquet(output_path)"
   ]
  },
  {
   "cell_type": "code",
   "execution_count": null,
   "id": "91645393-5842-4fb1-83b8-5eab67788f3e",
   "metadata": {},
   "outputs": [],
   "source": []
  }
 ],
 "metadata": {
  "kernelspec": {
   "display_name": "Python 3 (ipykernel)",
   "language": "python",
   "name": "python3"
  },
  "language_info": {
   "codemirror_mode": {
    "name": "ipython",
    "version": 3
   },
   "file_extension": ".py",
   "mimetype": "text/x-python",
   "name": "python",
   "nbconvert_exporter": "python",
   "pygments_lexer": "ipython3",
   "version": "3.9.7"
  }
 },
 "nbformat": 4,
 "nbformat_minor": 5
}
