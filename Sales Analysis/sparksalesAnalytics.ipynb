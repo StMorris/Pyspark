{
 "cells": [
  {
   "cell_type": "markdown",
   "id": "484a6ed6",
   "metadata": {},
   "source": [
    "# PySpark: Analysis of sales data stored in Parquet file format. \n",
    "\n",
    "### What was the best month in sales?\n",
    "### What city has the highest sales?\n",
    "### What time should we display advertisements to maximize the likelihood of customer's buying products?\n",
    "### What's often sold together in the state of NY"
   ]
  },
  {
   "cell_type": "code",
   "execution_count": 1,
   "id": "b7586259-2748-458b-a8e9-b5ed559e4402",
   "metadata": {},
   "outputs": [],
   "source": [
    "from pyspark.sql import SparkSession\n",
    "from pyspark.sql.functions import col, expr"
   ]
  },
  {
   "cell_type": "code",
   "execution_count": 2,
   "id": "d1268e23-c689-4a1a-9c5e-20a07c1482bf",
   "metadata": {},
   "outputs": [],
   "source": [
    "import warnings\n",
    "\n",
    "warnings.filterwarnings('ignore')"
   ]
  },
  {
   "cell_type": "code",
   "execution_count": 3,
   "id": "e42531c2-905f-4514-bd82-b974b49615b3",
   "metadata": {
    "scrolled": true
   },
   "outputs": [
    {
     "name": "stderr",
     "output_type": "stream",
     "text": [
      "WARNING: An illegal reflective access operation has occurred\n",
      "WARNING: Illegal reflective access by org.apache.spark.unsafe.Platform (file:/Users/st__morris/opt/anaconda3/lib/python3.9/site-packages/pyspark/jars/spark-unsafe_2.12-3.2.1.jar) to constructor java.nio.DirectByteBuffer(long,int)\n",
      "WARNING: Please consider reporting this to the maintainers of org.apache.spark.unsafe.Platform\n",
      "WARNING: Use --illegal-access=warn to enable warnings of further illegal reflective access operations\n",
      "WARNING: All illegal access operations will be denied in a future release\n",
      "Using Spark's default log4j profile: org/apache/spark/log4j-defaults.properties\n",
      "Setting default log level to \"WARN\".\n",
      "To adjust logging level use sc.setLogLevel(newLevel). For SparkR, use setLogLevel(newLevel).\n",
      "22/12/05 16:39:04 WARN NativeCodeLoader: Unable to load native-hadoop library for your platform... using builtin-java classes where applicable\n"
     ]
    }
   ],
   "source": [
    "#create spark session\n",
    "spark = (SparkSession.builder.appName('SalesAnalytics').getOrCreate())"
   ]
  },
  {
   "cell_type": "markdown",
   "id": "9409262f",
   "metadata": {},
   "source": [
    "Java11 and Spark 3.2 when used together produce these errors. \n",
    "The first step is to switch to Java8 until this issue gets resolved, although spark session is still created and runs successfully"
   ]
  },
  {
   "cell_type": "markdown",
   "id": "ac182052-806c-4d40-841a-32b5d60a408d",
   "metadata": {
    "jp-MarkdownHeadingCollapsed": true,
    "tags": []
   },
   "source": [
    "## Read 2019 Data from Parquet FIles Directory"
   ]
  },
  {
   "cell_type": "code",
   "execution_count": 4,
   "id": "7b6464fa-5453-4a3b-af70-40760153e8d7",
   "metadata": {},
   "outputs": [],
   "source": [
    "#set the filepath and partition\n",
    "source_data_path = 'data/output/sales/'\n",
    "partition = 'ReportYear=2019'\n",
    "full_path = f'{source_data_path}{partition}'"
   ]
  },
  {
   "cell_type": "code",
   "execution_count": 5,
   "id": "31336183-3e45-4620-aeff-3cbe1c6c88a8",
   "metadata": {},
   "outputs": [
    {
     "name": "stderr",
     "output_type": "stream",
     "text": [
      "\r",
      "[Stage 1:>                                                          (0 + 1) / 1]\r"
     ]
    },
    {
     "name": "stdout",
     "output_type": "stream",
     "text": [
      "+-------+------------------------+--------+------+-------------------+-----------------------------------+--------------+-----+-----+\n",
      "|OrderID|Product                 |Quantity|Price |OrderDate          |StoreAddress                       |City          |State|Month|\n",
      "+-------+------------------------+--------+------+-------------------+-----------------------------------+--------------+-----+-----+\n",
      "|295838 |34in Ultrawide Monitor  |1       |379.99|2019-12-14 22:57:00|321 8th St, San Francisco, CA 94016| San Francisco|CA   |12   |\n",
      "|296598 |AAA Batteries (4-pack)  |3       |2.99  |2019-12-23 10:08:00|757 Lake St, Seattle, WA 98101     | Seattle      |WA   |12   |\n",
      "|296803 |Lightning Charging Cable|1       |14.95 |2019-12-03 10:10:00|598 4th St, Los Angeles, CA 90001  | Los Angeles  |CA   |12   |\n",
      "|297378 |Apple Airpods Headphones|1       |150.0 |2019-12-19 10:12:00|991 4th St, Dallas, TX 75001       | Dallas       |TX   |12   |\n",
      "|297643 |ThinkPad Laptop         |1       |999.99|2019-12-24 19:00:00|27 Maple St, Boston, MA 02215      | Boston       |MA   |12   |\n",
      "+-------+------------------------+--------+------+-------------------+-----------------------------------+--------------+-----+-----+\n",
      "only showing top 5 rows\n",
      "\n"
     ]
    },
    {
     "name": "stderr",
     "output_type": "stream",
     "text": [
      "\r",
      "                                                                                \r"
     ]
    }
   ],
   "source": [
    "#read parquet file\n",
    "sales_2019_df = spark.read.parquet(full_path)\n",
    "sales_2019_df.show(5,truncate = False)"
   ]
  },
  {
   "cell_type": "markdown",
   "id": "1140aef0-e4e6-4303-97cc-628e8a9f3a6b",
   "metadata": {
    "tags": []
   },
   "source": [
    "## What was the best month in sales?"
   ]
  },
  {
   "cell_type": "code",
   "execution_count": 6,
   "id": "4ec59eea-4511-4759-af6c-6403faaad508",
   "metadata": {},
   "outputs": [],
   "source": [
    "from pyspark.sql.functions import round, sum\n",
    "import pandas as pd\n",
    "import matplotlib.pyplot as plt\n",
    "import seaborn as sns"
   ]
  },
  {
   "cell_type": "code",
   "execution_count": 7,
   "id": "3e4bdfe7-f542-4dab-a878-cd4e3a3e229b",
   "metadata": {},
   "outputs": [],
   "source": [
    "sales_q1_df = (sales_2019_df.select(\n",
    "                                col('OrderID'),\n",
    "                                col('Month'),\n",
    "                                col('Price'),\n",
    "                                col('Quantity'),\n",
    "                                expr('Price * Quantity').alias('Sales')))"
   ]
  },
  {
   "cell_type": "code",
   "execution_count": 8,
   "id": "f788fbb4-e893-4c25-aaa9-894e58d0eb26",
   "metadata": {},
   "outputs": [
    {
     "name": "stdout",
     "output_type": "stream",
     "text": [
      "+-------+-----+------+--------+----------+\n",
      "|OrderID|Month| Price|Quantity|     Sales|\n",
      "+-------+-----+------+--------+----------+\n",
      "| 295838|   12|379.99|       1|    379.99|\n",
      "| 296598|   12|  2.99|       3|      8.97|\n",
      "| 296803|   12| 14.95|       1|     14.95|\n",
      "| 297378|   12| 150.0|       1|     150.0|\n",
      "| 297643|   12|999.99|       1|    999.99|\n",
      "| 298114|   12|  3.84|       1|      3.84|\n",
      "| 298177|   12|  3.84|       3|11.5199995|\n",
      "| 298662|   12| 600.0|       1|     600.0|\n",
      "| 298747|   12| 11.95|       1|     11.95|\n",
      "| 298793|   12| 14.95|       1|     14.95|\n",
      "| 299117|   12| 11.95|       1|     11.95|\n",
      "| 299247|   12| 14.95|       1|     14.95|\n",
      "| 299885|   12| 11.99|       1|     11.99|\n",
      "| 300057|   12| 14.95|       1|     14.95|\n",
      "| 300393|   12| 11.95|       1|     11.95|\n",
      "| 300480|   12| 400.0|       1|     400.0|\n",
      "| 300623|   12| 11.95|       1|     11.95|\n",
      "| 300683|   12| 11.95|       1|     11.95|\n",
      "| 300713|   12|379.99|       1|    379.99|\n",
      "| 300876|   12| 14.95|       1|     14.95|\n",
      "+-------+-----+------+--------+----------+\n",
      "only showing top 20 rows\n",
      "\n"
     ]
    }
   ],
   "source": [
    "sales_q1_df.show()"
   ]
  },
  {
   "cell_type": "code",
   "execution_count": 9,
   "id": "1a9fa2ce-2177-4b9d-a3f1-88c851376f48",
   "metadata": {},
   "outputs": [],
   "source": [
    "#calculate total sales by month\n",
    "sales_q1_df = (sales_q1_df\n",
    "               .groupBy('Month')\n",
    "               .agg(round(sum('Sales'),2).alias('TotalSales'))\n",
    "               .orderBy('TotalSales', ascending = False))"
   ]
  },
  {
   "cell_type": "code",
   "execution_count": 10,
   "id": "c0dcf7d5-5e95-4ab2-b29b-ce1bae0f40d8",
   "metadata": {},
   "outputs": [
    {
     "name": "stdout",
     "output_type": "stream",
     "text": [
      "+-----+----------+\n",
      "|Month|TotalSales|\n",
      "+-----+----------+\n",
      "|   12|4608295.68|\n",
      "|   10|3734777.84|\n",
      "|    4|3389217.96|\n",
      "|   11|3197875.03|\n",
      "|    5|3150616.21|\n",
      "|    3|2804973.34|\n",
      "|    7|2646461.31|\n",
      "|    6|2576280.14|\n",
      "|    8|2241083.36|\n",
      "|    2|2200078.07|\n",
      "|    9|2094465.68|\n",
      "|    1|1812742.86|\n",
      "+-----+----------+\n",
      "\n"
     ]
    }
   ],
   "source": [
    "sales_q1_df.show()"
   ]
  },
  {
   "cell_type": "code",
   "execution_count": 11,
   "id": "fcbeebeb-b89c-42f2-b16d-c9aae3d0cc5b",
   "metadata": {},
   "outputs": [],
   "source": [
    "#convert spark df to pandas\n",
    "pd_sales_q1 = (sales_q1_df.orderBy('Month')).toPandas()"
   ]
  },
  {
   "cell_type": "code",
   "execution_count": 12,
   "id": "24e82228-7883-4383-82e2-8ce519df0a5b",
   "metadata": {},
   "outputs": [
    {
     "data": {
      "text/html": [
       "<div>\n",
       "<style scoped>\n",
       "    .dataframe tbody tr th:only-of-type {\n",
       "        vertical-align: middle;\n",
       "    }\n",
       "\n",
       "    .dataframe tbody tr th {\n",
       "        vertical-align: top;\n",
       "    }\n",
       "\n",
       "    .dataframe thead th {\n",
       "        text-align: right;\n",
       "    }\n",
       "</style>\n",
       "<table border=\"1\" class=\"dataframe\">\n",
       "  <thead>\n",
       "    <tr style=\"text-align: right;\">\n",
       "      <th></th>\n",
       "      <th>Month</th>\n",
       "      <th>TotalSales</th>\n",
       "    </tr>\n",
       "  </thead>\n",
       "  <tbody>\n",
       "    <tr>\n",
       "      <th>0</th>\n",
       "      <td>1</td>\n",
       "      <td>1812742.86</td>\n",
       "    </tr>\n",
       "    <tr>\n",
       "      <th>1</th>\n",
       "      <td>2</td>\n",
       "      <td>2200078.07</td>\n",
       "    </tr>\n",
       "    <tr>\n",
       "      <th>2</th>\n",
       "      <td>3</td>\n",
       "      <td>2804973.34</td>\n",
       "    </tr>\n",
       "    <tr>\n",
       "      <th>3</th>\n",
       "      <td>4</td>\n",
       "      <td>3389217.96</td>\n",
       "    </tr>\n",
       "    <tr>\n",
       "      <th>4</th>\n",
       "      <td>5</td>\n",
       "      <td>3150616.21</td>\n",
       "    </tr>\n",
       "    <tr>\n",
       "      <th>5</th>\n",
       "      <td>6</td>\n",
       "      <td>2576280.14</td>\n",
       "    </tr>\n",
       "    <tr>\n",
       "      <th>6</th>\n",
       "      <td>7</td>\n",
       "      <td>2646461.31</td>\n",
       "    </tr>\n",
       "    <tr>\n",
       "      <th>7</th>\n",
       "      <td>8</td>\n",
       "      <td>2241083.36</td>\n",
       "    </tr>\n",
       "    <tr>\n",
       "      <th>8</th>\n",
       "      <td>9</td>\n",
       "      <td>2094465.68</td>\n",
       "    </tr>\n",
       "    <tr>\n",
       "      <th>9</th>\n",
       "      <td>10</td>\n",
       "      <td>3734777.84</td>\n",
       "    </tr>\n",
       "    <tr>\n",
       "      <th>10</th>\n",
       "      <td>11</td>\n",
       "      <td>3197875.03</td>\n",
       "    </tr>\n",
       "    <tr>\n",
       "      <th>11</th>\n",
       "      <td>12</td>\n",
       "      <td>4608295.68</td>\n",
       "    </tr>\n",
       "  </tbody>\n",
       "</table>\n",
       "</div>"
      ],
      "text/plain": [
       "    Month  TotalSales\n",
       "0       1  1812742.86\n",
       "1       2  2200078.07\n",
       "2       3  2804973.34\n",
       "3       4  3389217.96\n",
       "4       5  3150616.21\n",
       "5       6  2576280.14\n",
       "6       7  2646461.31\n",
       "7       8  2241083.36\n",
       "8       9  2094465.68\n",
       "9      10  3734777.84\n",
       "10     11  3197875.03\n",
       "11     12  4608295.68"
      ]
     },
     "execution_count": 12,
     "metadata": {},
     "output_type": "execute_result"
    }
   ],
   "source": [
    "pd_sales_q1"
   ]
  },
  {
   "cell_type": "code",
   "execution_count": 13,
   "id": "1dfd4e7a-4057-4a28-934b-5bc38ab1c766",
   "metadata": {},
   "outputs": [
    {
     "data": {
      "image/png": "[encoded data removed]",
      "text/plain": [
       "<Figure size 720x432 with 1 Axes>"
      ]
     },
     "metadata": {
      "needs_background": "light"
     },
     "output_type": "display_data"
    }
   ],
   "source": [
    "plt.figure(figsize= (10,6))\n",
    "plt.ticklabel_format(useOffset=False, style = 'plain')\n",
    "sns.set_theme(style = 'whitegrid')\n",
    "sns.barplot(x = 'Month', y = 'TotalSales', data=pd_sales_q1).set_title('Total sales per month')\n",
    "plt.ylabel('TotalSales')\n",
    "plt.show()"
   ]
  },
  {
   "cell_type": "markdown",
   "id": "3508e420",
   "metadata": {},
   "source": [
    "## What city has the highest sales?"
   ]
  },
  {
   "cell_type": "code",
   "execution_count": 14,
   "id": "006361dd-aa1e-4dbb-8f8f-d77139157db4",
   "metadata": {
    "scrolled": true
   },
   "outputs": [
    {
     "name": "stdout",
     "output_type": "stream",
     "text": [
      "+-------+--------------------+--------+------+-------------------+--------------------+--------------+-----+-----+\n",
      "|OrderID|             Product|Quantity| Price|          OrderDate|        StoreAddress|          City|State|Month|\n",
      "+-------+--------------------+--------+------+-------------------+--------------------+--------------+-----+-----+\n",
      "| 295838|34in Ultrawide Mo...|       1|379.99|2019-12-14 22:57:00|321 8th St, San F...| San Francisco|   CA|   12|\n",
      "| 296598|AAA Batteries (4-...|       3|  2.99|2019-12-23 10:08:00|757 Lake St, Seat...|       Seattle|   WA|   12|\n",
      "| 296803|Lightning Chargin...|       1| 14.95|2019-12-03 10:10:00|598 4th St, Los A...|   Los Angeles|   CA|   12|\n",
      "| 297378|Apple Airpods Hea...|       1| 150.0|2019-12-19 10:12:00|991 4th St, Dalla...|        Dallas|   TX|   12|\n",
      "| 297643|     ThinkPad Laptop|       1|999.99|2019-12-24 19:00:00|27 Maple St, Bost...|        Boston|   MA|   12|\n",
      "| 298114|AA Batteries (4-p...|       1|  3.84|2019-12-22 01:57:00|259 Johnson St, A...|       Atlanta|   GA|   12|\n",
      "| 298177|AA Batteries (4-p...|       3|  3.84|2019-12-21 13:57:00|35 Johnson St, Se...|       Seattle|   WA|   12|\n",
      "| 298662|        Google Phone|       1| 600.0|2019-12-09 09:39:00|54 Hickory St, Sa...| San Francisco|   CA|   12|\n",
      "| 298747|USB-C Charging Cable|       1| 11.95|2019-12-15 09:24:00|630 North St, Por...|      Portland|   OR|   12|\n",
      "| 298793|Lightning Chargin...|       1| 14.95|2019-12-11 10:50:00|835 Pine St, Bost...|        Boston|   MA|   12|\n",
      "| 299117|USB-C Charging Cable|       1| 11.95|2019-12-24 20:25:00|523 11th St, Los ...|   Los Angeles|   CA|   12|\n",
      "| 299247|Lightning Chargin...|       1| 14.95|2019-12-01 18:11:00|869 4th St, San F...| San Francisco|   CA|   12|\n",
      "| 299885|    Wired Headphones|       1| 11.99|2019-12-24 09:48:00|524 13th St, Bost...|        Boston|   MA|   12|\n",
      "| 300057|Lightning Chargin...|       1| 14.95|2019-12-28 20:08:00|715 Madison St, L...|   Los Angeles|   CA|   12|\n",
      "| 300393|USB-C Charging Cable|       1| 11.95|2019-12-28 11:57:00|782 Ridge St, Dal...|        Dallas|   TX|   12|\n",
      "| 300480|     Vareebadd Phone|       1| 400.0|2019-12-04 18:07:00|342 Dogwood St, N...| New York City|   NY|   12|\n",
      "| 300623|USB-C Charging Cable|       1| 11.95|2019-12-22 20:56:00|934 River St, New...| New York City|   NY|   12|\n",
      "| 300683|USB-C Charging Cable|       1| 11.95|2019-12-27 11:01:00|841 Cedar St, San...| San Francisco|   CA|   12|\n",
      "| 300713|34in Ultrawide Mo...|       1|379.99|2019-12-22 20:55:00|264 Church St, Po...|      Portland|   OR|   12|\n",
      "| 300876|Lightning Chargin...|       1| 14.95|2019-12-25 14:04:00|853 10th St, Seat...|       Seattle|   WA|   12|\n",
      "+-------+--------------------+--------+------+-------------------+--------------------+--------------+-----+-----+\n",
      "only showing top 20 rows\n",
      "\n"
     ]
    }
   ],
   "source": [
    "sales_2019_df.show()"
   ]
  },
  {
   "cell_type": "code",
   "execution_count": 15,
   "id": "c1fc3bcb-66a6-4b93-b0ac-edc93526ea93",
   "metadata": {},
   "outputs": [
    {
     "name": "stdout",
     "output_type": "stream",
     "text": [
      "+-------+--------+--------------+\n",
      "|OrderID|Quantity|          City|\n",
      "+-------+--------+--------------+\n",
      "| 295838|       1| San Francisco|\n",
      "| 296598|       3|       Seattle|\n",
      "| 296803|       1|   Los Angeles|\n",
      "| 297378|       1|        Dallas|\n",
      "| 297643|       1|        Boston|\n",
      "| 298114|       1|       Atlanta|\n",
      "| 298177|       3|       Seattle|\n",
      "| 298662|       1| San Francisco|\n",
      "| 298747|       1|      Portland|\n",
      "| 298793|       1|        Boston|\n",
      "| 299117|       1|   Los Angeles|\n",
      "| 299247|       1| San Francisco|\n",
      "| 299885|       1|        Boston|\n",
      "| 300057|       1|   Los Angeles|\n",
      "| 300393|       1|        Dallas|\n",
      "| 300480|       1| New York City|\n",
      "| 300623|       1| New York City|\n",
      "| 300683|       1| San Francisco|\n",
      "| 300713|       1|      Portland|\n",
      "| 300876|       1|       Seattle|\n",
      "+-------+--------+--------------+\n",
      "only showing top 20 rows\n",
      "\n"
     ]
    }
   ],
   "source": [
    "sales_2019_df.select('OrderID', 'Quantity', 'City').show()"
   ]
  },
  {
   "cell_type": "code",
   "execution_count": 16,
   "id": "253d185f-fae2-4018-b980-bb5e35395961",
   "metadata": {},
   "outputs": [],
   "source": [
    "sales_q2_df = (sales_2019_df.groupBy('City')\n",
    "              .agg(sum('Quantity').alias('TotalProducts'))\n",
    "              .orderBy('TotalProducts', ascending = False))"
   ]
  },
  {
   "cell_type": "code",
   "execution_count": 17,
   "id": "332c7718-0d87-4fdd-8fdb-a942366c0858",
   "metadata": {},
   "outputs": [
    {
     "name": "stdout",
     "output_type": "stream",
     "text": [
      "+--------------+-------------+\n",
      "|          City|TotalProducts|\n",
      "+--------------+-------------+\n",
      "| San Francisco|        50156|\n",
      "|   Los Angeles|        33246|\n",
      "| New York City|        27887|\n",
      "|        Boston|        22490|\n",
      "|        Dallas|        16705|\n",
      "|       Atlanta|        16584|\n",
      "|       Seattle|        16533|\n",
      "|      Portland|        14035|\n",
      "|        Austin|        11135|\n",
      "+--------------+-------------+\n",
      "\n"
     ]
    }
   ],
   "source": [
    "sales_q2_df.show(10)"
   ]
  },
  {
   "cell_type": "code",
   "execution_count": 18,
   "id": "ed733370-513f-4e4a-aae2-750c325e5f5c",
   "metadata": {},
   "outputs": [],
   "source": [
    "pd_sales_q2 = sales_q2_df.toPandas()"
   ]
  },
  {
   "cell_type": "code",
   "execution_count": 19,
   "id": "7c63b4fd-8e69-4223-8e0c-e580a4fd7e0b",
   "metadata": {},
   "outputs": [
    {
     "data": {
      "text/html": [
       "<div>\n",
       "<style scoped>\n",
       "    .dataframe tbody tr th:only-of-type {\n",
       "        vertical-align: middle;\n",
       "    }\n",
       "\n",
       "    .dataframe tbody tr th {\n",
       "        vertical-align: top;\n",
       "    }\n",
       "\n",
       "    .dataframe thead th {\n",
       "        text-align: right;\n",
       "    }\n",
       "</style>\n",
       "<table border=\"1\" class=\"dataframe\">\n",
       "  <thead>\n",
       "    <tr style=\"text-align: right;\">\n",
       "      <th></th>\n",
       "      <th>City</th>\n",
       "      <th>TotalProducts</th>\n",
       "    </tr>\n",
       "  </thead>\n",
       "  <tbody>\n",
       "    <tr>\n",
       "      <th>0</th>\n",
       "      <td>San Francisco</td>\n",
       "      <td>50156</td>\n",
       "    </tr>\n",
       "    <tr>\n",
       "      <th>1</th>\n",
       "      <td>Los Angeles</td>\n",
       "      <td>33246</td>\n",
       "    </tr>\n",
       "    <tr>\n",
       "      <th>2</th>\n",
       "      <td>New York City</td>\n",
       "      <td>27887</td>\n",
       "    </tr>\n",
       "    <tr>\n",
       "      <th>3</th>\n",
       "      <td>Boston</td>\n",
       "      <td>22490</td>\n",
       "    </tr>\n",
       "    <tr>\n",
       "      <th>4</th>\n",
       "      <td>Dallas</td>\n",
       "      <td>16705</td>\n",
       "    </tr>\n",
       "    <tr>\n",
       "      <th>5</th>\n",
       "      <td>Atlanta</td>\n",
       "      <td>16584</td>\n",
       "    </tr>\n",
       "    <tr>\n",
       "      <th>6</th>\n",
       "      <td>Seattle</td>\n",
       "      <td>16533</td>\n",
       "    </tr>\n",
       "    <tr>\n",
       "      <th>7</th>\n",
       "      <td>Portland</td>\n",
       "      <td>14035</td>\n",
       "    </tr>\n",
       "    <tr>\n",
       "      <th>8</th>\n",
       "      <td>Austin</td>\n",
       "      <td>11135</td>\n",
       "    </tr>\n",
       "  </tbody>\n",
       "</table>\n",
       "</div>"
      ],
      "text/plain": [
       "             City  TotalProducts\n",
       "0   San Francisco          50156\n",
       "1     Los Angeles          33246\n",
       "2   New York City          27887\n",
       "3          Boston          22490\n",
       "4          Dallas          16705\n",
       "5         Atlanta          16584\n",
       "6         Seattle          16533\n",
       "7        Portland          14035\n",
       "8          Austin          11135"
      ]
     },
     "execution_count": 19,
     "metadata": {},
     "output_type": "execute_result"
    }
   ],
   "source": [
    "pd_sales_q2"
   ]
  },
  {
   "cell_type": "code",
   "execution_count": 20,
   "id": "3c8c237d-bbf5-4527-972e-3519c3155db6",
   "metadata": {
    "tags": []
   },
   "outputs": [
    {
     "data": {
      "image/png": "[encoded data removed]",
      "text/plain": [
       "<Figure size 720x432 with 1 Axes>"
      ]
     },
     "metadata": {},
     "output_type": "display_data"
    }
   ],
   "source": [
    "plt.figure(figsize= (10,6))\n",
    "plt.ticklabel_format(useOffset=False, style = 'plain')\n",
    "sns.set_theme(style = 'whitegrid')\n",
    "sns.barplot(y = 'City', x = 'TotalProducts', data=pd_sales_q2).set_title('Total sales per city', fontsize = 15)\n",
    "plt.ylabel('TotalProducts')\n",
    "plt.show()"
   ]
  },
  {
   "cell_type": "markdown",
   "id": "b4de3b45-322c-4e09-8618-5838683a12f0",
   "metadata": {
    "jp-MarkdownHeadingCollapsed": true,
    "tags": []
   },
   "source": [
    "## What time should we display advertisements to maximize the likelihood of customer's buying products?"
   ]
  },
  {
   "cell_type": "code",
   "execution_count": 21,
   "id": "ec7d52b6-eb44-4b15-9c82-e9163a1ec60d",
   "metadata": {},
   "outputs": [],
   "source": [
    "from pyspark.sql.functions import count, date_format"
   ]
  },
  {
   "cell_type": "code",
   "execution_count": 22,
   "id": "94cf5790-b3ef-419c-afc3-b56428b8e57b",
   "metadata": {},
   "outputs": [
    {
     "name": "stdout",
     "output_type": "stream",
     "text": [
      "+-------+-----+\n",
      "|OrderID|count|\n",
      "+-------+-----+\n",
      "|310188 |2    |\n",
      "|304276 |2    |\n",
      "|269251 |2    |\n",
      "|300601 |2    |\n",
      "|285602 |2    |\n",
      "|265863 |2    |\n",
      "|261569 |2    |\n",
      "|277349 |2    |\n",
      "|188122 |2    |\n",
      "|310537 |2    |\n",
      "+-------+-----+\n",
      "only showing top 10 rows\n",
      "\n"
     ]
    }
   ],
   "source": [
    "#no of times\n",
    "sales_2019_df.groupBy('OrderID').agg(count('OrderID').alias('count')).where(col('count') > 1).show(10, False)"
   ]
  },
  {
   "cell_type": "code",
   "execution_count": 23,
   "id": "bd6d4c4f-343d-4b19-9dda-0b4816aa723f",
   "metadata": {},
   "outputs": [
    {
     "name": "stdout",
     "output_type": "stream",
     "text": [
      "+-------+---------------+--------+------+-------------------+-----------------------------------+--------------+-----+-----+\n",
      "|OrderID|Product        |Quantity|Price |OrderDate          |StoreAddress                       |City          |State|Month|\n",
      "+-------+---------------+--------+------+-------------------+-----------------------------------+--------------+-----+-----+\n",
      "|304276 |iPhone         |1       |700.0 |2019-12-15 06:07:00|358 5th St, New York City, NY 10001| New York City|NY   |12   |\n",
      "|304276 |ThinkPad Laptop|1       |999.99|2019-12-15 06:07:00|358 5th St, New York City, NY 10001| New York City|NY   |12   |\n",
      "+-------+---------------+--------+------+-------------------+-----------------------------------+--------------+-----+-----+\n",
      "\n"
     ]
    }
   ],
   "source": [
    "sales_2019_df.filter(col('OrderID') == 304276).show(truncate =False)"
   ]
  },
  {
   "cell_type": "code",
   "execution_count": 24,
   "id": "554139f2-b739-46a2-95b8-4bf2fdf37556",
   "metadata": {},
   "outputs": [],
   "source": [
    "#no of orders by hour\n",
    "sales_q3_df = (sales_2019_df.select('OrderID'\n",
    "                        ,date_format('OrderDate', 'HH').cast('int').alias('Hour'))\n",
    "                       .distinct()\n",
    "                       .groupBy('Hour')\n",
    "                       .agg(count('Hour').alias('TotalOrders'))\n",
    "                       .orderBy(col('TotalOrders'), ascending = False))"
   ]
  },
  {
   "cell_type": "code",
   "execution_count": 25,
   "id": "f3cd0073-d64a-4517-8f9a-279db13b4582",
   "metadata": {},
   "outputs": [
    {
     "name": "stdout",
     "output_type": "stream",
     "text": [
      "+----+-----------+\n",
      "|Hour|TotalOrders|\n",
      "+----+-----------+\n",
      "|  19|      12377|\n",
      "|  12|      12082|\n",
      "|  11|      11882|\n",
      "|  20|      11763|\n",
      "|  18|      11761|\n",
      "|  13|      11682|\n",
      "|  14|      10522|\n",
      "|  21|      10499|\n",
      "|  10|      10492|\n",
      "|  17|      10476|\n",
      "+----+-----------+\n",
      "only showing top 10 rows\n",
      "\n"
     ]
    }
   ],
   "source": [
    "sales_q3_df.show(10)"
   ]
  },
  {
   "cell_type": "code",
   "execution_count": 26,
   "id": "b1549f28-6fd1-4c86-8f3a-b8cab05306d6",
   "metadata": {},
   "outputs": [],
   "source": [
    "pd_sales_q3 = sales_q3_df.orderBy('Hour').toPandas()"
   ]
  },
  {
   "cell_type": "code",
   "execution_count": 27,
   "id": "bf89b221-33f7-4e2c-9933-58b5304ce320",
   "metadata": {},
   "outputs": [
    {
     "data": {
      "image/png": "[encoded data removed]",
      "text/plain": [
       "<Figure size 720x432 with 1 Axes>"
      ]
     },
     "metadata": {},
     "output_type": "display_data"
    }
   ],
   "source": [
    "#line chart Totalproducts sold by Hour\n",
    "plt.figure(figsize= (10,6))\n",
    "plt.ticklabel_format(useOffset=False, style = 'plain')\n",
    "sns.set_theme(style = 'whitegrid')\n",
    "sns.lineplot(x = 'Hour', y = 'TotalOrders', data=pd_sales_q3)\n",
    "plt.ylabel('TotalProducts')\n",
    "plt.show()"
   ]
  },
  {
   "cell_type": "markdown",
   "id": "a155fcd5-cb90-4a46-b05b-4be3373889ea",
   "metadata": {
    "jp-MarkdownHeadingCollapsed": true,
    "tags": []
   },
   "source": [
    "## What's often sold together in the state of NY"
   ]
  },
  {
   "cell_type": "code",
   "execution_count": 28,
   "id": "a9d23007-db5b-44b0-8e4a-7b1c91d122af",
   "metadata": {},
   "outputs": [],
   "source": [
    "from pyspark.sql.functions import collect_list, size"
   ]
  },
  {
   "cell_type": "code",
   "execution_count": 29,
   "id": "f005923d-a3fe-41d3-a598-df271b6a1bef",
   "metadata": {},
   "outputs": [],
   "source": [
    "#filter for newyork \n",
    "#convert product into a list with collect_list function\n",
    "sales_q4_df = (sales_2019_df.where(col('State') == 'NY').orderBy('OrderID', 'Product').groupBy('OrderID', 'State')\n",
    "                              .agg(collect_list('Product').alias('ProductList')))"
   ]
  },
  {
   "cell_type": "code",
   "execution_count": 30,
   "id": "aa6a9c38-c077-4397-84ba-017f56a5fb63",
   "metadata": {},
   "outputs": [
    {
     "name": "stdout",
     "output_type": "stream",
     "text": [
      "+-------+-----+----------------------------+\n",
      "|OrderID|State|ProductList                 |\n",
      "+-------+-----+----------------------------+\n",
      "|141264 |NY   |[Apple Airpods Headphones]  |\n",
      "|141268 |NY   |[AA Batteries (4-pack)]     |\n",
      "|141272 |NY   |[AAA Batteries (4-pack)]    |\n",
      "|141278 |NY   |[Lightning Charging Cable]  |\n",
      "|141282 |NY   |[Vareebadd Phone]           |\n",
      "|141301 |NY   |[Apple Airpods Headphones]  |\n",
      "|141314 |NY   |[Macbook Pro Laptop]        |\n",
      "|141317 |NY   |[27in FHD Monitor]          |\n",
      "|141323 |NY   |[USB-C Charging Cable]      |\n",
      "|141343 |NY   |[Bose SoundSport Headphones]|\n",
      "+-------+-----+----------------------------+\n",
      "only showing top 10 rows\n",
      "\n"
     ]
    }
   ],
   "source": [
    "sales_q4_df.show(10, truncate = False)"
   ]
  },
  {
   "cell_type": "code",
   "execution_count": 31,
   "id": "a622e2d7-6d4e-4f49-a2d8-812a2af576e3",
   "metadata": {},
   "outputs": [
    {
     "name": "stdout",
     "output_type": "stream",
     "text": [
      "+-------+-----+----------------------------------------+---------------+\n",
      "|OrderID|State|ProductList                             |ProductListSize|\n",
      "+-------+-----+----------------------------------------+---------------+\n",
      "|253929 |NY   |[20in Monitor, 27in 4K Gaming Monitor]  |2              |\n",
      "|197004 |NY   |[20in Monitor, AA Batteries (4-pack)]   |2              |\n",
      "|158102 |NY   |[20in Monitor, AA Batteries (4-pack)]   |2              |\n",
      "|248053 |NY   |[20in Monitor, AA Batteries (4-pack)]   |2              |\n",
      "|266247 |NY   |[20in Monitor, AA Batteries (4-pack)]   |2              |\n",
      "|176251 |NY   |[20in Monitor, AAA Batteries (4-pack)]  |2              |\n",
      "|245465 |NY   |[20in Monitor, AAA Batteries (4-pack)]  |2              |\n",
      "|194762 |NY   |[20in Monitor, AAA Batteries (4-pack)]  |2              |\n",
      "|204645 |NY   |[20in Monitor, Apple Airpods Headphones]|2              |\n",
      "|234956 |NY   |[20in Monitor, Apple Airpods Headphones]|2              |\n",
      "+-------+-----+----------------------------------------+---------------+\n",
      "only showing top 10 rows\n",
      "\n"
     ]
    }
   ],
   "source": [
    "#create a column with no of products per order ID\n",
    "sales_q4_df = (sales_q4_df.withColumn('ProductListSize', size('ProductList')))\n",
    "#filter for productlistsize > 1\n",
    "sales_q4_df.filter(col('ProductListSize') > 1).orderBy('ProductList').show(10, False)"
   ]
  },
  {
   "cell_type": "code",
   "execution_count": 32,
   "id": "8864d021-b0ca-4160-853d-f6d9dffe6fa5",
   "metadata": {},
   "outputs": [
    {
     "name": "stdout",
     "output_type": "stream",
     "text": [
      "+------------------------------------------------------+-----+\n",
      "|ProductList                                           |count|\n",
      "+------------------------------------------------------+-----+\n",
      "|[Google Phone, USB-C Charging Cable]                  |127  |\n",
      "|[Lightning Charging Cable, iPhone]                    |126  |\n",
      "|[Google Phone, Wired Headphones]                      |53   |\n",
      "|[USB-C Charging Cable, Vareebadd Phone]               |50   |\n",
      "|[Wired Headphones, iPhone]                            |46   |\n",
      "|[Apple Airpods Headphones, iPhone]                    |45   |\n",
      "|[Bose SoundSport Headphones, Google Phone]            |24   |\n",
      "|[Apple Airpods Headphones, Wired Headphones]          |19   |\n",
      "|[Vareebadd Phone, Wired Headphones]                   |17   |\n",
      "|[AAA Batteries (4-pack), Lightning Charging Cable]    |16   |\n",
      "|[AA Batteries (4-pack), Lightning Charging Cable]     |16   |\n",
      "|[USB-C Charging Cable, Wired Headphones]              |14   |\n",
      "|[AA Batteries (4-pack), AAA Batteries (4-pack)]       |13   |\n",
      "|[AA Batteries (4-pack), Apple Airpods Headphones]     |13   |\n",
      "|[AAA Batteries (4-pack), Wired Headphones]            |11   |\n",
      "|[Google Phone, USB-C Charging Cable, Wired Headphones]|11   |\n",
      "|[AA Batteries (4-pack), USB-C Charging Cable]         |11   |\n",
      "|[Apple Airpods Headphones, Lightning Charging Cable]  |10   |\n",
      "|[Lightning Charging Cable, USB-C Charging Cable]      |10   |\n",
      "|[AAA Batteries (4-pack), Bose SoundSport Headphones]  |9    |\n",
      "+------------------------------------------------------+-----+\n",
      "only showing top 20 rows\n",
      "\n"
     ]
    }
   ],
   "source": [
    "## No of times sets of products were sold together\n",
    "(sales_q4_df.filter(col('ProductListSize') > 1)\n",
    "                  .groupBy('ProductList')\n",
    "                  .count()\n",
    "                  .orderBy('count', ascending = False)).show(20, False)"
   ]
  },
  {
   "cell_type": "code",
   "execution_count": null,
   "id": "656da87f-666e-4405-a610-baf53d4d6e3f",
   "metadata": {},
   "outputs": [],
   "source": []
  },
  {
   "cell_type": "code",
   "execution_count": null,
   "id": "759c072d-1ee7-4e72-a86e-0c5f27f89d47",
   "metadata": {},
   "outputs": [],
   "source": []
  }
 ],
 "metadata": {
  "kernelspec": {
   "display_name": "Python 3 (ipykernel)",
   "language": "python",
   "name": "python3"
  },
  "language_info": {
   "codemirror_mode": {
    "name": "ipython",
    "version": 3
   },
   "file_extension": ".py",
   "mimetype": "text/x-python",
   "name": "python",
   "nbconvert_exporter": "python",
   "pygments_lexer": "ipython3",
   "version": "3.9.7"
  }
 },
 "nbformat": 4,
 "nbformat_minor": 5
}
